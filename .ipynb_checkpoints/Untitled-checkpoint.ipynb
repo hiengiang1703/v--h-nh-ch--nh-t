{
 "cells": [
  {
   "cell_type": "code",
   "execution_count": null,
   "id": "728fc02b",
   "metadata": {},
   "outputs": [],
   "source": [
    "import turtle\n",
    "turtle.Screen().bgcolor(\"cadetblue1\")\n",
    "\n",
    "t = turtle.Turtle()\n",
    "n = 150\n",
    "m = 200\n",
    "a = 90\n",
    "\n",
    "t.pensize(2)\n",
    "\n",
    "# vẽ hình hình chữ nhật có chiều rộng là dài m, chiều rộng n\n",
    "t.fillcolor(\"blue\")\n",
    "t.begin_fill()\n",
    "t.forward(m)\n",
    "t.left(a)\n",
    "t.forward(n)\n",
    "t.left(a)\n",
    "t.forward(m)\n",
    "t.left(a)\n",
    "t.forward(n)\n",
    "t.end_fill()\n",
    "turtle.done()"
   ]
  }
 ],
 "metadata": {
  "kernelspec": {
   "display_name": "Python 3",
   "language": "python",
   "name": "python3"
  },
  "language_info": {
   "codemirror_mode": {
    "name": "ipython",
    "version": 3
   },
   "file_extension": ".py",
   "mimetype": "text/x-python",
   "name": "python",
   "nbconvert_exporter": "python",
   "pygments_lexer": "ipython3",
   "version": "3.6.7rc1"
  }
 },
 "nbformat": 4,
 "nbformat_minor": 5
}
